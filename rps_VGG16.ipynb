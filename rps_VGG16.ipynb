{
 "cells": [
  {
   "cell_type": "markdown",
   "metadata": {},
   "source": [
    "# Training VGG16 to Classify Rock Paper Scissors Images\n",
    "\n",
    "In this notebook we will be training a `keras.applications.VGG16` Convolutional Neural Network (CNN) on the Rock Paper Scissors (RPS) images preprocessed in `image_processing.ipynb` and organized into train and test sets with `combined_test.sh`. \n",
    "\n",
    "VGG16 model performance on the existing images will then be evaluated using `sklearn.metrics.classification_report` and `confusion_matrix`. \n",
    "\n",
    "Model performance on real-time images will similarly be evaluated in notebook: `real-time_test.ipynb`. "
   ]
  },
  {
   "cell_type": "code",
   "execution_count": 1,
   "metadata": {},
   "outputs": [
    {
     "name": "stderr",
     "output_type": "stream",
     "text": [
      "Using TensorFlow backend.\n"
     ]
    }
   ],
   "source": [
    "# Importing the usual libraries \n",
    "import pandas as pd\n",
    "import numpy as np\n",
    "\n",
    "# importing layers\n",
    "import keras\n",
    "from keras.layers import Dense, Dropout, Flatten\n",
    "from keras.applications import VGG16\n",
    "from keras.applications.vgg16 import preprocess_input\n",
    "from keras.preprocessing.image import ImageDataGenerator\n",
    "from keras.callbacks import EarlyStopping, ModelCheckpoint\n",
    "from keras.models import Model, model_from_json, Sequential\n",
    "from keras.optimizers import Adam\n",
    "from keras.utils import plot_model\n",
    "\n",
    "# Model Evaluation\n",
    "from sklearn.metrics import classification_report, confusion_matrix\n",
    "import seaboarn as sns\n",
    "import matplotlib.pyplot as plt\n",
    "%matplotlib inline"
   ]
  },
  {
   "cell_type": "markdown",
   "metadata": {},
   "source": [
    "VGG16 was selected based on a previous [project](https://github.com/angelphanth/alphabet_asl) I had completed where VGG16 CNN had superior performance when classifying letters of the Americal Sign Language alphabet from webcam images taken in real-time when compared to VGG19, Xception and InceptionResNetV2.\n",
    "\n",
    "Transfer learning was configured using the following Medium articles written by [Parkash Jay](https://medium.com/@14prakash/transfer-learning-using-keras-d804b2e04ef8) and [James Le](https://towardsdatascience.com/the-4-convolutional-neural-network-models-that-can-classify-your-fashion-images-9fe7f3e5399d). \n",
    "\n",
    "The model will undergo a minimum of 12 and a maximum of 30 phases of learning (epochs) to minimize the amount of error (or `categorical_crossentropy`) when classifying the validation (10% of training set) RPS images. "
   ]
  },
  {
   "cell_type": "code",
   "execution_count": 2,
   "metadata": {},
   "outputs": [],
   "source": [
    "# Saving variables that will be called upon throughout the notebook \n",
    "classes = 3 \n",
    "pixels = 300\n",
    "channels = 3 #if 3 'color_mode=\"rgb\"', if 1 'color_mode=\"grayscale\"'\n",
    "path = ''\n",
    "batch_size = 20\n",
    "\n",
    "# Training the model for a minimum of 12 and maximum of 30 epochs\n",
    "min_epochs=12\n",
    "epochs=30\n",
    "\n",
    "# Initialize the model \n",
    "model = Sequential() "
   ]
  },
  {
   "cell_type": "code",
   "execution_count": 3,
   "metadata": {},
   "outputs": [
    {
     "name": "stdout",
     "output_type": "stream",
     "text": [
      "Model: \"vgg16\"\n",
      "_________________________________________________________________\n",
      "Layer (type)                 Output Shape              Param #   \n",
      "=================================================================\n",
      "input_1 (InputLayer)         (None, 300, 300, 3)       0         \n",
      "_________________________________________________________________\n",
      "block1_conv1 (Conv2D)        (None, 300, 300, 64)      1792      \n",
      "_________________________________________________________________\n",
      "block1_conv2 (Conv2D)        (None, 300, 300, 64)      36928     \n",
      "_________________________________________________________________\n",
      "block1_pool (MaxPooling2D)   (None, 150, 150, 64)      0         \n",
      "_________________________________________________________________\n",
      "block2_conv1 (Conv2D)        (None, 150, 150, 128)     73856     \n",
      "_________________________________________________________________\n",
      "block2_conv2 (Conv2D)        (None, 150, 150, 128)     147584    \n",
      "_________________________________________________________________\n",
      "block2_pool (MaxPooling2D)   (None, 75, 75, 128)       0         \n",
      "_________________________________________________________________\n",
      "block3_conv1 (Conv2D)        (None, 75, 75, 256)       295168    \n",
      "_________________________________________________________________\n",
      "block3_conv2 (Conv2D)        (None, 75, 75, 256)       590080    \n",
      "_________________________________________________________________\n",
      "block3_conv3 (Conv2D)        (None, 75, 75, 256)       590080    \n",
      "_________________________________________________________________\n",
      "block3_pool (MaxPooling2D)   (None, 37, 37, 256)       0         \n",
      "_________________________________________________________________\n",
      "block4_conv1 (Conv2D)        (None, 37, 37, 512)       1180160   \n",
      "_________________________________________________________________\n",
      "block4_conv2 (Conv2D)        (None, 37, 37, 512)       2359808   \n",
      "_________________________________________________________________\n",
      "block4_conv3 (Conv2D)        (None, 37, 37, 512)       2359808   \n",
      "_________________________________________________________________\n",
      "block4_pool (MaxPooling2D)   (None, 18, 18, 512)       0         \n",
      "_________________________________________________________________\n",
      "block5_conv1 (Conv2D)        (None, 18, 18, 512)       2359808   \n",
      "_________________________________________________________________\n",
      "block5_conv2 (Conv2D)        (None, 18, 18, 512)       2359808   \n",
      "_________________________________________________________________\n",
      "block5_conv3 (Conv2D)        (None, 18, 18, 512)       2359808   \n",
      "_________________________________________________________________\n",
      "block5_pool (MaxPooling2D)   (None, 9, 9, 512)         0         \n",
      "_________________________________________________________________\n",
      "global_max_pooling2d_1 (Glob (None, 512)               0         \n",
      "=================================================================\n",
      "Total params: 14,714,688\n",
      "Trainable params: 14,675,968\n",
      "Non-trainable params: 38,720\n",
      "_________________________________________________________________\n"
     ]
    }
   ],
   "source": [
    "# Import the pretrained VGG16 network, do not include the top layers\n",
    "# Import the architecture with the weights by ='imagenet'\n",
    "pretrained = VGG16(weights='imagenet', include_top=False, pooling='max', input_shape=(pixels,pixels,channels))\n",
    "\n",
    "# Setting the first few layers to not trainable so weights wont be tweaked\n",
    "for layer in pretrained.layers[:4]:\n",
    "    layer.trainable=False\n",
    "# Allow all other layers to be trained on the RPS images    \n",
    "for layer in pretrained.layers[4:]:\n",
    "    layer.trainable=True\n",
    "    \n",
    "# Display VGG16 architecture\n",
    "pretrained.summary()"
   ]
  },
  {
   "cell_type": "code",
   "execution_count": 4,
   "metadata": {},
   "outputs": [
    {
     "name": "stdout",
     "output_type": "stream",
     "text": [
      "Model: \"sequential_1\"\n",
      "_________________________________________________________________\n",
      "Layer (type)                 Output Shape              Param #   \n",
      "=================================================================\n",
      "vgg16 (Model)                (None, 512)               14714688  \n",
      "_________________________________________________________________\n",
      "dense_1 (Dense)              (None, 256)               131328    \n",
      "_________________________________________________________________\n",
      "dense_2 (Dense)              (None, 512)               131584    \n",
      "_________________________________________________________________\n",
      "dense_3 (Dense)              (None, 3)                 1539      \n",
      "=================================================================\n",
      "Total params: 14,979,139\n",
      "Trainable params: 14,940,419\n",
      "Non-trainable params: 38,720\n",
      "_________________________________________________________________\n"
     ]
    }
   ],
   "source": [
    "# Adding VGG16 to the model\n",
    "model.add(pretrained)\n",
    "\n",
    "# Adding additional dense layers\n",
    "model.add(Dense(256))\n",
    "model.add(Dense(512))\n",
    "model.add(Dense(classes, activation='softmax'))\n",
    "    \n",
    "# Istantiating Adam optimizer with a learning rate of 0.0001 and saving to variable 'optim'\n",
    "optim = Adam(lr=0.0001)\n",
    "\n",
    "# Compiling the CNN model \n",
    "model.compile(optimizer=optim, loss='categorical_crossentropy', metrics=['accuracy'])\n",
    "\n",
    "# Display the model summary \n",
    "model.summary()"
   ]
  },
  {
   "cell_type": "code",
   "execution_count": 5,
   "metadata": {},
   "outputs": [
    {
     "data": {
      "image/png": "[encoded data removed]",
      "text/plain": [
       "<IPython.core.display.Image object>"
      ]
     },
     "execution_count": 5,
     "metadata": {},
     "output_type": "execute_result"
    }
   ],
   "source": [
    "# Saving the model summary as an image\n",
    "plot_model(model, to_file='rps_full.png', \n",
    "show_shapes=True, show_layer_names=True)                          "
   ]
  },
  {
   "cell_type": "markdown",
   "metadata": {},
   "source": [
    "Image augmentation was configured using the following [resource](https://machinelearningmastery.com/how-to-configure-image-data-augmentation-when-training-deep-learning-neural-networks/). \n",
    "\n",
    "Images were augmented in the hopes of improving the VGG16 model's ability to classify new RPS images (e.g., real-time webcam images). "
   ]
  },
  {
   "cell_type": "code",
   "execution_count": 6,
   "metadata": {},
   "outputs": [],
   "source": [
    "# Istantiating the training/validation ImageDataGenerator()\n",
    "datagen_train = ImageDataGenerator(rescale=1./255,\n",
    "                                   horizontal_flip=True,\n",
    "                                   vertical_flip=True,\n",
    "                                   rotation_range=90,\n",
    "                                   width_shift_range=[-15,15],\n",
    "                                   height_shift_range=[-15,15],\n",
    "                                   zoom_range=0.1,\n",
    "                                   shear_range=0.2,\n",
    "                                   fill_mode='reflect',\n",
    "                                   validation_split=0.1)\n",
    "\n",
    "# Istantiating the test generator\n",
    "datagen_test = ImageDataGenerator(rescale=1./255,\n",
    "                                  horizontal_flip=True,\n",
    "                                  vertical_flip=True,\n",
    "                                  rotation_range=90,\n",
    "                                  width_shift_range=[-15,15],\n",
    "                                  height_shift_range=[-15,15],\n",
    "                                  zoom_range=0.1,\n",
    "                                  shear_range=0.2,\n",
    "                                  fill_mode='reflect')"
   ]
  },
  {
   "cell_type": "code",
   "execution_count": 9,
   "metadata": {},
   "outputs": [
    {
     "name": "stdout",
     "output_type": "stream",
     "text": [
      "Found 3844 images belonging to 3 classes.\n",
      "Found 427 images belonging to 3 classes.\n",
      "Found 809 images belonging to 3 classes.\n"
     ]
    }
   ],
   "source": [
    "# The generator for the training data, shuffle set to True \n",
    "# (unable to view confusion matrix and classification report as a result)\n",
    "train_generator = datagen_train.flow_from_directory(path+'training_set/',\n",
    "                                                    target_size=(pixels, pixels),\n",
    "                                                    color_mode=\"rgb\",\n",
    "                                                    batch_size=batch_size,\n",
    "                                                    class_mode='categorical',\n",
    "                                                    shuffle=True, subset='training')\n",
    "\n",
    "# Generator for validation data, shuffle set to 'False' to allow for model evaluation\n",
    "validation_generator = datagen_train.flow_from_directory(path+'training_set/',\n",
    "                                                    target_size=(pixels, pixels),\n",
    "                                                    color_mode=\"rgb\",\n",
    "                                                    batch_size=batch_size,\n",
    "                                                    class_mode='categorical',\n",
    "                                                    shuffle=False, subset='validation')\n",
    "\n",
    "# Generator for test data, shuffle set to 'False' to allow for model evaluation\n",
    "test_generator = datagen_test.flow_from_directory(path+'test_set/',\n",
    "                                                    target_size=(pixels, pixels),\n",
    "                                                    color_mode=\"rgb\",\n",
    "                                                    batch_size=batch_size,\n",
    "                                                    class_mode='categorical',\n",
    "                                                    shuffle=False)"
   ]
  },
  {
   "cell_type": "code",
   "execution_count": 10,
   "metadata": {},
   "outputs": [
    {
     "name": "stdout",
     "output_type": "stream",
     "text": [
      "Training step size = 193, Validation step size = 22\n",
      "Test step size = 41\n"
     ]
    }
   ],
   "source": [
    "# Saving the number of stepsizes for the training, validation and test sets \n",
    "train_stepsize = train_generator.n//train_generator.batch_size + 1\n",
    "valid_stepsize = validation_generator.samples//validation_generator.batch_size + 1\n",
    "test_stepsize = test_generator.samples//test_generator.batch_size + 1\n",
    "\n",
    "# Sanity check \n",
    "print(f'Training step size = {train_stepsize}, Validation step size = {valid_stepsize}')\n",
    "print(f'Test step size = {test_stepsize}')"
   ]
  },
  {
   "cell_type": "markdown",
   "metadata": {},
   "source": [
    "Finally, we will utilize `keras.callbacks`: \n",
    "\n",
    "- `EarlyStopping()` to [prevent overfitting](https://machinelearningmastery.com/early-stopping-to-avoid-overtraining-neural-network-models/) to the training images, and \n",
    "\n",
    "\n",
    "- `ModelCheckpoint()` to [save the best model weights](https://machinelearningmastery.com/how-to-stop-training-deep-neural-networks-at-the-right-time-using-early-stopping/) which may not coincide with the model at the end of training.  \n",
    "\n"
   ]
  },
  {
   "cell_type": "code",
   "execution_count": 11,
   "metadata": {},
   "outputs": [],
   "source": [
    "# Early stopping will help prevent overfitting the model to the train data, \n",
    "# Initiate early stop based on validation accuracy\n",
    "# Will not stop before 'min_epochs' of 12 (patience)\n",
    "ES = EarlyStopping(monitor='val_accuracy', mode='auto', min_delta=0, patience=min_epochs, verbose=1)\n",
    "\n",
    "# Model checkpointer that will only save the weights from the epoch with the best validation accuracy\n",
    "checkpoint = ModelCheckpoint(\"best_weights_vgg16.h5\", monitor='val_accuracy', verbose=1, save_best_only=True, mode='max')\n",
    "\n",
    "\n",
    "# Adding both callbacks to a 'callbacks_list'\n",
    "callbacks_list = [ES, checkpoint]    "
   ]
  },
  {
   "cell_type": "markdown",
   "metadata": {},
   "source": [
    "Now, we will compile and train the model on the training RPS images. \n",
    "\n",
    "The model's progress will be saved to the variable `history` to allow for visualization of the progression of train and validation accuracies and losses.  "
   ]
  },
  {
   "cell_type": "code",
   "execution_count": 12,
   "metadata": {},
   "outputs": [
    {
     "name": "stdout",
     "output_type": "stream",
     "text": [
      "Epoch 1/30\n",
      "193/193 [==============================] - 115s 596ms/step - loss: 0.6034 - accuracy: 0.7019 - val_loss: 0.0086 - val_accuracy: 0.9625\n",
      "\n",
      "Epoch 00001: val_accuracy improved from -inf to 0.96253, saving model to best_weights_vgg16.h5\n",
      "Epoch 2/30\n",
      "193/193 [==============================] - 103s 536ms/step - loss: 0.1123 - accuracy: 0.9625 - val_loss: 0.1002 - val_accuracy: 0.9578\n",
      "\n",
      "Epoch 00002: val_accuracy did not improve from 0.96253\n",
      "Epoch 3/30\n",
      "193/193 [==============================] - 104s 537ms/step - loss: 0.0592 - accuracy: 0.9820 - val_loss: 0.0067 - val_accuracy: 0.9625\n",
      "\n",
      "Epoch 00003: val_accuracy did not improve from 0.96253\n",
      "Epoch 4/30\n",
      "193/193 [==============================] - 104s 541ms/step - loss: 0.0377 - accuracy: 0.9886 - val_loss: 2.8890e-04 - val_accuracy: 0.9742\n",
      "\n",
      "Epoch 00004: val_accuracy improved from 0.96253 to 0.97424, saving model to best_weights_vgg16.h5\n",
      "Epoch 5/30\n",
      "193/193 [==============================] - 105s 544ms/step - loss: 0.0424 - accuracy: 0.9867 - val_loss: 0.0035 - val_accuracy: 0.9883\n",
      "\n",
      "Epoch 00005: val_accuracy improved from 0.97424 to 0.98829, saving model to best_weights_vgg16.h5\n",
      "Epoch 6/30\n",
      "193/193 [==============================] - 105s 543ms/step - loss: 0.0208 - accuracy: 0.9927 - val_loss: 3.4957e-04 - val_accuracy: 0.9696\n",
      "\n",
      "Epoch 00006: val_accuracy did not improve from 0.98829\n",
      "Epoch 7/30\n",
      "193/193 [==============================] - 105s 545ms/step - loss: 0.0768 - accuracy: 0.9755 - val_loss: 6.0365e-04 - val_accuracy: 0.9789\n",
      "\n",
      "Epoch 00007: val_accuracy did not improve from 0.98829\n",
      "Epoch 8/30\n",
      "193/193 [==============================] - 105s 542ms/step - loss: 0.0477 - accuracy: 0.9867 - val_loss: 1.3563e-04 - val_accuracy: 0.9766\n",
      "\n",
      "Epoch 00008: val_accuracy did not improve from 0.98829\n",
      "Epoch 9/30\n",
      "193/193 [==============================] - 107s 553ms/step - loss: 0.0135 - accuracy: 0.9974 - val_loss: 9.6557e-06 - val_accuracy: 0.9719\n",
      "\n",
      "Epoch 00009: val_accuracy did not improve from 0.98829\n",
      "Epoch 10/30\n",
      "193/193 [==============================] - 105s 543ms/step - loss: 0.0199 - accuracy: 0.9948 - val_loss: 3.3096e-04 - val_accuracy: 0.9906\n",
      "\n",
      "Epoch 00010: val_accuracy improved from 0.98829 to 0.99063, saving model to best_weights_vgg16.h5\n",
      "Epoch 11/30\n",
      "193/193 [==============================] - 107s 552ms/step - loss: 0.0117 - accuracy: 0.9971 - val_loss: 7.6189e-05 - val_accuracy: 0.9742\n",
      "\n",
      "Epoch 00011: val_accuracy did not improve from 0.99063\n",
      "Epoch 12/30\n",
      "193/193 [==============================] - 107s 556ms/step - loss: 0.0270 - accuracy: 0.9904 - val_loss: 1.5327e-07 - val_accuracy: 0.9789\n",
      "\n",
      "Epoch 00012: val_accuracy did not improve from 0.99063\n",
      "Epoch 13/30\n",
      "193/193 [==============================] - 106s 548ms/step - loss: 0.0166 - accuracy: 0.9948 - val_loss: 9.1913e-05 - val_accuracy: 0.9859\n",
      "\n",
      "Epoch 00013: val_accuracy did not improve from 0.99063\n",
      "Epoch 14/30\n",
      "193/193 [==============================] - 104s 541ms/step - loss: 0.0227 - accuracy: 0.9940 - val_loss: 1.7809e-04 - val_accuracy: 0.9859\n",
      "\n",
      "Epoch 00014: val_accuracy did not improve from 0.99063\n",
      "Epoch 15/30\n",
      "193/193 [==============================] - 104s 536ms/step - loss: 0.0072 - accuracy: 0.9984 - val_loss: 1.0729e-06 - val_accuracy: 0.9813\n",
      "\n",
      "Epoch 00015: val_accuracy did not improve from 0.99063\n",
      "Epoch 16/30\n",
      "193/193 [==============================] - 104s 537ms/step - loss: 0.0523 - accuracy: 0.9841 - val_loss: 0.0057 - val_accuracy: 0.9766\n",
      "\n",
      "Epoch 00016: val_accuracy did not improve from 0.99063\n",
      "Epoch 17/30\n",
      "193/193 [==============================] - 105s 544ms/step - loss: 0.0250 - accuracy: 0.9914 - val_loss: 1.3964e-06 - val_accuracy: 0.9789\n",
      "\n",
      "Epoch 00017: val_accuracy did not improve from 0.99063\n",
      "Epoch 18/30\n",
      "193/193 [==============================] - 106s 550ms/step - loss: 0.0125 - accuracy: 0.9964 - val_loss: 1.4118e-04 - val_accuracy: 1.0000\n",
      "\n",
      "Epoch 00018: val_accuracy improved from 0.99063 to 1.00000, saving model to best_weights_vgg16.h5\n",
      "Epoch 19/30\n",
      "193/193 [==============================] - 105s 543ms/step - loss: 0.0146 - accuracy: 0.9945 - val_loss: 9.5875e-06 - val_accuracy: 0.9836\n",
      "\n",
      "Epoch 00019: val_accuracy did not improve from 1.00000\n",
      "Epoch 20/30\n",
      "193/193 [==============================] - 105s 543ms/step - loss: 0.0122 - accuracy: 0.9969 - val_loss: 1.3743e-05 - val_accuracy: 0.9930\n",
      "\n",
      "Epoch 00020: val_accuracy did not improve from 1.00000\n",
      "Epoch 21/30\n",
      "193/193 [==============================] - 105s 543ms/step - loss: 0.0197 - accuracy: 0.9951 - val_loss: 6.2810e-05 - val_accuracy: 0.9883\n",
      "\n",
      "Epoch 00021: val_accuracy did not improve from 1.00000\n",
      "Epoch 22/30\n",
      "193/193 [==============================] - 105s 543ms/step - loss: 0.0072 - accuracy: 0.9987 - val_loss: 4.4278e-07 - val_accuracy: 0.9813\n",
      "\n",
      "Epoch 00022: val_accuracy did not improve from 1.00000\n",
      "Epoch 23/30\n",
      "193/193 [==============================] - 105s 542ms/step - loss: 0.0019 - accuracy: 0.9997 - val_loss: 1.8733e-07 - val_accuracy: 0.9742\n",
      "\n",
      "Epoch 00023: val_accuracy did not improve from 1.00000\n",
      "Epoch 24/30\n",
      "193/193 [==============================] - 106s 551ms/step - loss: 3.2973e-04 - accuracy: 1.0000 - val_loss: 3.4060e-08 - val_accuracy: 0.9859\n",
      "\n",
      "Epoch 00024: val_accuracy did not improve from 1.00000\n",
      "Epoch 25/30\n",
      "193/193 [==============================] - 105s 544ms/step - loss: 0.0503 - accuracy: 0.9870 - val_loss: 4.0676e-04 - val_accuracy: 0.9906\n",
      "\n",
      "Epoch 00025: val_accuracy did not improve from 1.00000\n",
      "Epoch 26/30\n",
      "193/193 [==============================] - 106s 550ms/step - loss: 0.0144 - accuracy: 0.9958 - val_loss: 3.0038e-05 - val_accuracy: 0.9906\n",
      "\n",
      "Epoch 00026: val_accuracy did not improve from 1.00000\n",
      "Epoch 27/30\n",
      "193/193 [==============================] - 105s 544ms/step - loss: 0.0192 - accuracy: 0.9948 - val_loss: 1.9245e-04 - val_accuracy: 0.9977\n",
      "\n",
      "Epoch 00027: val_accuracy did not improve from 1.00000\n",
      "Epoch 28/30\n",
      "193/193 [==============================] - 105s 544ms/step - loss: 0.0119 - accuracy: 0.9966 - val_loss: 1.8082e-04 - val_accuracy: 0.9930\n",
      "\n",
      "Epoch 00028: val_accuracy did not improve from 1.00000\n",
      "Epoch 29/30\n",
      "193/193 [==============================] - 106s 548ms/step - loss: 0.0267 - accuracy: 0.9919 - val_loss: 1.0848e-05 - val_accuracy: 0.9766\n",
      "\n",
      "Epoch 00029: val_accuracy did not improve from 1.00000\n",
      "Epoch 30/30\n",
      "193/193 [==============================] - 107s 555ms/step - loss: 0.0178 - accuracy: 0.9943 - val_loss: 1.5838e-05 - val_accuracy: 1.0000\n",
      "\n",
      "Epoch 00030: val_accuracy did not improve from 1.00000\n",
      "Epoch 00030: early stopping\n"
     ]
    }
   ],
   "source": [
    "# Fitting the model to the training data\n",
    "history = model.fit_generator(generator=train_generator,\n",
    "                                steps_per_epoch=train_stepsize,\n",
    "                                epochs=epochs,\n",
    "                                validation_data=validation_generator,\n",
    "                                validation_steps=valid_stepsize,\n",
    "                                callbacks=callbacks_list)"
   ]
  },
  {
   "cell_type": "markdown",
   "metadata": {},
   "source": [
    "Visualizing the model's training and validation loss and accuracy progression for every epoch. "
   ]
  },
  {
   "cell_type": "code",
   "execution_count": 13,
   "metadata": {},
   "outputs": [
    {
     "data": {
      "image/png": "[encoded data removed]",
      "text/plain": [
       "<Figure size 1440x720 with 2 Axes>"
      ]
     },
     "metadata": {
      "needs_background": "light"
     },
     "output_type": "display_data"
    }
   ],
   "source": [
    "# Initializing the subplot \n",
    "plt.subplots(1,2,figsize=(20,10))\n",
    "\n",
    "# Plotting the model's training and validation loss progression for every completed epoch \n",
    "plt.subplot(1, 2, 1)\n",
    "plt.plot(history.history['loss'], label='Training Loss', linewidth=2, marker='o', color='blue')\n",
    "plt.plot(history.history['val_loss'], label='Validation Loss', linewidth=2, marker='^', color='red')\n",
    "\n",
    "# Formatting axes and titles\n",
    "plt.suptitle('Optimizer : Adam , Learning Rate: 0.0001', fontsize=20)\n",
    "plt.ylabel('Loss', fontsize=18)\n",
    "plt.xlabel('Epoch', fontsize=18)\n",
    "plt.xticks(fontsize=14)\n",
    "plt.yticks(fontsize=14)\n",
    "\n",
    "# Formatting legend\n",
    "plt.legend(loc='upper right', fontsize=18)\n",
    "\n",
    "# Plotting the training and validation accuracy changes for every epoch \n",
    "plt.subplot(1, 2, 2)\n",
    "plt.plot(history.history['accuracy'], label='Training Accuracy', linewidth=2, marker='o', color='blue')\n",
    "plt.plot(history.history['val_accuracy'], label='Validation Accuracy', linewidth=2, marker='^', color='red')\n",
    "\n",
    "# Formatting axes and titles\n",
    "plt.ylabel('Accuracy', fontsize=18)\n",
    "plt.xlabel('Epoch', fontsize=18)\n",
    "plt.yticks(fontsize=14)\n",
    "plt.xticks(fontsize=14)\n",
    "\n",
    "# Formatting legend\n",
    "plt.legend(loc='lower right', fontsize=18)\n",
    "\n",
    "# Display the plots\n",
    "plt.show()"
   ]
  },
  {
   "cell_type": "markdown",
   "metadata": {},
   "source": [
    "## Model Evaluation \n",
    "\n",
    "In order to evaluate the `bestmodel`'s performance we will need to load in the `best_weights_vgg16.h5` saved by `ModelCheckpoint()`. "
   ]
  },
  {
   "cell_type": "code",
   "execution_count": 14,
   "metadata": {},
   "outputs": [],
   "source": [
    "# Saving the CNN architecture as a JSON\n",
    "modelarch_json = model.to_json()\n",
    "with open(\"rps_VGG16.json\",\"w\") as json_file:\n",
    "    json_file.write(modelarch_json)\n",
    "    \n",
    "# Initialize the 'bestmodel' using the weights saved with the ModelCheckpoint callback\n",
    "bestmodel = model_from_json(modelarch_json)\n",
    "\n",
    "# Loading the weights that resulted in the best validation accuracy during training \n",
    "bestmodel.load_weights(\"best_weights_vgg16.h5\")\n",
    "\n",
    "# Compile the bestmodel\n",
    "bestmodel.compile(optimizer=optim, loss='categorical_crossentropy', metrics=['accuracy'])"
   ]
  },
  {
   "cell_type": "markdown",
   "metadata": {},
   "source": [
    "The `bestmodel` that resulted from training will be evaluated via classification reports and confusion matrices normalized by the number of images for the given class. "
   ]
  },
  {
   "cell_type": "code",
   "execution_count": 15,
   "metadata": {},
   "outputs": [],
   "source": [
    "# Creating axis labels for future sns.heatmaps \n",
    "\n",
    "# Getting the class names\n",
    "categories = list(train_generator.class_indices.keys())\n",
    "\n",
    "# Preficing classes with 'Predicted ' \n",
    "predicted_labels = list('Predicted '  + category for category in categories)\n",
    "\n",
    "# Preficing classes with 'True '\n",
    "true_labels = list('True ' + category for category in categories)\n",
    "\n",
    "# Creating labels(indices) for model evaluation metrics \n",
    "eval_metrics = list(bestmodel.metrics_names)"
   ]
  },
  {
   "cell_type": "markdown",
   "metadata": {},
   "source": [
    "**NOTE:** Unable to create a classification report or confusion matrix for train data as train_generator(shuffle=True) does not save the true classes "
   ]
  },
  {
   "cell_type": "code",
   "execution_count": 16,
   "metadata": {},
   "outputs": [
    {
     "name": "stdout",
     "output_type": "stream",
     "text": [
      "             Train\n",
      "loss      0.000019\n",
      "accuracy  0.998699\n"
     ]
    }
   ],
   "source": [
    "# Re-evaluating the best model's performance on the training data\n",
    "train_eval = bestmodel.evaluate_generator(train_generator, steps=train_stepsize)\n",
    "\n",
    "# Saving the results to a dataframe\n",
    "df_train_eval = pd.DataFrame(list(train_eval), index=eval_metrics, columns=['Train'])\n",
    "\n",
    "# Display the results\n",
    "print(df_train_eval)"
   ]
  },
  {
   "cell_type": "markdown",
   "metadata": {},
   "source": [
    "Thus, `bestmodel` achieved 99.9% accuracy and < 0.0001 categorical crossentropy loss on the train dataset. \n",
    "\n",
    "-----\n",
    "\n",
    "### Evaluating `bestmodel` Performance on the Validation Dataset\n",
    "\n",
    "First, we will acquire the model's predictions and saving to variable `valid_predictions`. "
   ]
  },
  {
   "cell_type": "code",
   "execution_count": 18,
   "metadata": {
    "collapsed": true
   },
   "outputs": [
    {
     "data": {
      "text/plain": [
       "array([0, 0, 0, 0, 0, 0, 0, 0, 0, 0, 0, 0, 0, 0, 0, 0, 0, 0, 0, 0, 0, 0,\n",
       "       0, 0, 0, 0, 0, 0, 0, 0, 0, 0, 0, 0, 0, 0, 0, 0, 0, 0, 0, 0, 0, 0,\n",
       "       0, 0, 0, 0, 0, 0, 0, 0, 0, 0, 0, 0, 0, 0, 0, 0, 0, 0, 0, 0, 0, 0,\n",
       "       0, 0, 0, 0, 0, 0, 0, 0, 0, 0, 0, 0, 0, 0, 0, 0, 0, 0, 0, 0, 0, 0,\n",
       "       0, 0, 0, 0, 0, 0, 0, 0, 0, 0, 0, 0, 0, 0, 0, 0, 0, 0, 0, 0, 0, 0,\n",
       "       0, 0, 0, 0, 0, 0, 0, 0, 0, 0, 0, 0, 0, 2, 0, 0, 0, 0, 0, 1, 0, 0,\n",
       "       0, 0, 0, 0, 0, 0, 0, 0, 0, 1, 1, 1, 1, 1, 1, 1, 1, 1, 1, 1, 1, 1,\n",
       "       1, 1, 1, 1, 1, 1, 1, 1, 1, 1, 1, 1, 1, 1, 1, 1, 1, 1, 1, 1, 1, 1,\n",
       "       1, 1, 1, 1, 1, 1, 1, 1, 1, 1, 1, 1, 1, 1, 1, 1, 1, 1, 1, 1, 1, 1,\n",
       "       1, 1, 1, 1, 1, 1, 1, 1, 1, 1, 1, 1, 1, 1, 1, 1, 1, 1, 1, 1, 1, 1,\n",
       "       1, 1, 1, 1, 1, 1, 1, 1, 1, 1, 1, 1, 1, 1, 1, 1, 1, 1, 1, 1, 1, 1,\n",
       "       1, 1, 1, 1, 1, 1, 1, 1, 1, 1, 1, 1, 1, 1, 1, 1, 1, 1, 1, 1, 1, 1,\n",
       "       1, 1, 1, 1, 1, 1, 1, 1, 1, 1, 1, 1, 1, 1, 1, 1, 1, 1, 1, 2, 2, 2,\n",
       "       2, 2, 2, 2, 2, 2, 2, 2, 2, 2, 2, 2, 2, 2, 2, 2, 2, 2, 2, 2, 2, 2,\n",
       "       2, 2, 2, 2, 2, 2, 2, 2, 2, 2, 2, 2, 2, 2, 2, 2, 2, 2, 2, 2, 2, 2,\n",
       "       2, 2, 2, 2, 2, 2, 2, 2, 2, 2, 2, 2, 2, 2, 2, 2, 2, 2, 2, 2, 2, 2,\n",
       "       2, 2, 2, 2, 2, 2, 2, 2, 2, 2, 2, 2, 2, 2, 2, 2, 2, 2, 2, 2, 2, 2,\n",
       "       2, 2, 2, 2, 2, 2, 2, 2, 2, 2, 2, 2, 2, 2, 2, 2, 2, 2, 2, 2, 2, 2,\n",
       "       2, 2, 2, 2, 2, 2, 2, 2, 2, 2, 2, 2, 2, 2, 2, 2, 2, 2, 2, 2, 2, 2,\n",
       "       2, 2, 2, 2, 2, 2, 2, 2, 2], dtype=int64)"
      ]
     },
     "execution_count": 18,
     "metadata": {},
     "output_type": "execute_result"
    }
   ],
   "source": [
    "# Getting bestmodel's predictions (as probabilities) on the validation images \n",
    "validation_probas = bestmodel.predict_generator(validation_generator, steps=valid_stepsize)\n",
    "\n",
    "# Setting the model's class prediction as the class that received the highest probability for each image\n",
    "valid_predictions = validation_probas.argmax(axis=1)\n",
    "\n",
    "# Sanity check \n",
    "valid_predictions"
   ]
  },
  {
   "cell_type": "markdown",
   "metadata": {},
   "source": [
    "Next, acquiring the images' true labels and saving to variable `valid_true`. "
   ]
  },
  {
   "cell_type": "code",
   "execution_count": 19,
   "metadata": {
    "collapsed": true
   },
   "outputs": [
    {
     "data": {
      "text/plain": [
       "array([0, 0, 0, 0, 0, 0, 0, 0, 0, 0, 0, 0, 0, 0, 0, 0, 0, 0, 0, 0, 0, 0,\n",
       "       0, 0, 0, 0, 0, 0, 0, 0, 0, 0, 0, 0, 0, 0, 0, 0, 0, 0, 0, 0, 0, 0,\n",
       "       0, 0, 0, 0, 0, 0, 0, 0, 0, 0, 0, 0, 0, 0, 0, 0, 0, 0, 0, 0, 0, 0,\n",
       "       0, 0, 0, 0, 0, 0, 0, 0, 0, 0, 0, 0, 0, 0, 0, 0, 0, 0, 0, 0, 0, 0,\n",
       "       0, 0, 0, 0, 0, 0, 0, 0, 0, 0, 0, 0, 0, 0, 0, 0, 0, 0, 0, 0, 0, 0,\n",
       "       0, 0, 0, 0, 0, 0, 0, 0, 0, 0, 0, 0, 0, 0, 0, 0, 0, 0, 0, 0, 0, 0,\n",
       "       0, 0, 0, 0, 0, 0, 0, 0, 0, 1, 1, 1, 1, 1, 1, 1, 1, 1, 1, 1, 1, 1,\n",
       "       1, 1, 1, 1, 1, 1, 1, 1, 1, 1, 1, 1, 1, 1, 1, 1, 1, 1, 1, 1, 1, 1,\n",
       "       1, 1, 1, 1, 1, 1, 1, 1, 1, 1, 1, 1, 1, 1, 1, 1, 1, 1, 1, 1, 1, 1,\n",
       "       1, 1, 1, 1, 1, 1, 1, 1, 1, 1, 1, 1, 1, 1, 1, 1, 1, 1, 1, 1, 1, 1,\n",
       "       1, 1, 1, 1, 1, 1, 1, 1, 1, 1, 1, 1, 1, 1, 1, 1, 1, 1, 1, 1, 1, 1,\n",
       "       1, 1, 1, 1, 1, 1, 1, 1, 1, 1, 1, 1, 1, 1, 1, 1, 1, 1, 1, 1, 1, 1,\n",
       "       1, 1, 1, 1, 1, 1, 1, 1, 1, 1, 1, 1, 1, 1, 1, 1, 1, 1, 1, 2, 2, 2,\n",
       "       2, 2, 2, 2, 2, 2, 2, 2, 2, 2, 2, 2, 2, 2, 2, 2, 2, 2, 2, 2, 2, 2,\n",
       "       2, 2, 2, 2, 2, 2, 2, 2, 2, 2, 2, 2, 2, 2, 2, 2, 2, 2, 2, 2, 2, 2,\n",
       "       2, 2, 2, 2, 2, 2, 2, 2, 2, 2, 2, 2, 2, 2, 2, 2, 2, 2, 2, 2, 2, 2,\n",
       "       2, 2, 2, 2, 2, 2, 2, 2, 2, 2, 2, 2, 2, 2, 2, 2, 2, 2, 2, 2, 2, 2,\n",
       "       2, 2, 2, 2, 2, 2, 2, 2, 2, 2, 2, 2, 2, 2, 2, 2, 2, 2, 2, 2, 2, 2,\n",
       "       2, 2, 2, 2, 2, 2, 2, 2, 2, 2, 2, 2, 2, 2, 2, 2, 2, 2, 2, 2, 2, 2,\n",
       "       2, 2, 2, 2, 2, 2, 2, 2, 2])"
      ]
     },
     "execution_count": 19,
     "metadata": {},
     "output_type": "execute_result"
    }
   ],
   "source": [
    "# Getting the true class labels for the validation data\n",
    "valid_true = validation_generator.classes\n",
    "\n",
    "# Sanity check \n",
    "valid_true"
   ]
  },
  {
   "cell_type": "markdown",
   "metadata": {},
   "source": [
    "Finally, we will compare `valid_predictions` with `valid_true` to acquire model accuracy, precision, recall, f1-scores and a confusion matrix. "
   ]
  },
  {
   "cell_type": "code",
   "execution_count": 20,
   "metadata": {},
   "outputs": [
    {
     "name": "stdout",
     "output_type": "stream",
     "text": [
      "          Validation\n",
      "loss        0.000251\n",
      "accuracy    0.995316\n"
     ]
    }
   ],
   "source": [
    "# Evaluating bestmodel's performance on the validation data \n",
    "valid_eval = bestmodel.evaluate_generator(validation_generator, steps=valid_stepsize)\n",
    "\n",
    "# Saving the results to a dataframe\n",
    "df_valid_eval = pd.DataFrame(list(valid_eval), index=eval_metrics, columns=['Validation'])\n",
    "\n",
    "# Display the results \n",
    "print(df_valid_eval)"
   ]
  },
  {
   "cell_type": "markdown",
   "metadata": {},
   "source": [
    "Thus, `bestmodel` achieved 99.5% accuracy and 0.0003 categorical crossentropy loss on the validation dataset."
   ]
  },
  {
   "cell_type": "code",
   "execution_count": 21,
   "metadata": {},
   "outputs": [
    {
     "name": "stdout",
     "output_type": "stream",
     "text": [
      "Validation Classification Report\n",
      " \n",
      "               precision    recall  f1-score   support\n",
      "\n",
      "       paper       1.00      0.99      0.99       141\n",
      "        rock       0.99      1.00      1.00       142\n",
      "    scissors       0.99      1.00      1.00       144\n",
      "\n",
      "    accuracy                           1.00       427\n",
      "   macro avg       1.00      1.00      1.00       427\n",
      "weighted avg       1.00      1.00      1.00       427\n",
      "\n"
     ]
    }
   ],
   "source": [
    "# Displaying the classification report for the validation set\n",
    "print('Validation Classification Report\\n \\n', classification_report(valid_true, valid_predictions, target_names=categories))"
   ]
  },
  {
   "cell_type": "markdown",
   "metadata": {},
   "source": [
    "`bestmodel` also had high precision, recall and f1-scores, which ranged from 99 - 100 %. "
   ]
  },
  {
   "cell_type": "code",
   "execution_count": 22,
   "metadata": {},
   "outputs": [
    {
     "data": {
      "text/html": [
       "<div>\n",
       "<style scoped>\n",
       "    .dataframe tbody tr th:only-of-type {\n",
       "        vertical-align: middle;\n",
       "    }\n",
       "\n",
       "    .dataframe tbody tr th {\n",
       "        vertical-align: top;\n",
       "    }\n",
       "\n",
       "    .dataframe thead th {\n",
       "        text-align: right;\n",
       "    }\n",
       "</style>\n",
       "<table border=\"1\" class=\"dataframe\">\n",
       "  <thead>\n",
       "    <tr style=\"text-align: right;\">\n",
       "      <th></th>\n",
       "      <th>Predicted paper</th>\n",
       "      <th>Predicted rock</th>\n",
       "      <th>Predicted scissors</th>\n",
       "    </tr>\n",
       "  </thead>\n",
       "  <tbody>\n",
       "    <tr>\n",
       "      <th>True paper</th>\n",
       "      <td>139</td>\n",
       "      <td>1</td>\n",
       "      <td>1</td>\n",
       "    </tr>\n",
       "    <tr>\n",
       "      <th>True rock</th>\n",
       "      <td>0</td>\n",
       "      <td>142</td>\n",
       "      <td>0</td>\n",
       "    </tr>\n",
       "    <tr>\n",
       "      <th>True scissors</th>\n",
       "      <td>0</td>\n",
       "      <td>0</td>\n",
       "      <td>144</td>\n",
       "    </tr>\n",
       "  </tbody>\n",
       "</table>\n",
       "</div>"
      ],
      "text/plain": [
       "               Predicted paper  Predicted rock  Predicted scissors\n",
       "True paper                 139               1                   1\n",
       "True rock                    0             142                   0\n",
       "True scissors                0               0                 144"
      ]
     },
     "execution_count": 22,
     "metadata": {},
     "output_type": "execute_result"
    }
   ],
   "source": [
    "# Creating a non-normalized confusion matrix for the validation set\n",
    "valid_matrix = pd.DataFrame(confusion_matrix(valid_true, valid_predictions), columns=predicted_labels, index=true_labels)\n",
    "\n",
    "# Display the matrix\n",
    "valid_matrix"
   ]
  },
  {
   "cell_type": "code",
   "execution_count": 24,
   "metadata": {
    "scrolled": false
   },
   "outputs": [
    {
     "data": {
      "image/png": "[encoded data removed]",
      "text/plain": [
       "<Figure size 1080x1080 with 2 Axes>"
      ]
     },
     "metadata": {},
     "output_type": "display_data"
    }
   ],
   "source": [
    "# Plotting the normalized confusion matrix (proportion of predictions by class) as a heatmap\n",
    "\n",
    "# Increasing fontsize\n",
    "sns.set(font_scale=1.2)\n",
    "\n",
    "# Creating the plot\n",
    "plt.figure(figsize=(15,15))\n",
    "sns.heatmap(round(valid_matrix/valid_matrix.sum(axis=1)[:,np.newaxis],2), cmap='Blues', annot=True, linewidths=.5, linecolor='black')\n",
    "\n",
    "# Formatting the title \n",
    "plt.title('Normalized Confusion Matrix: Validation Data', fontsize=20)\n",
    "\n",
    "# Display the normalized confusion matrix\n",
    "plt.show()"
   ]
  },
  {
   "cell_type": "markdown",
   "metadata": {},
   "source": [
    "Based on the non-normalized and normalized confusion matrices, `bestmodel` proved successful at predicting the classes of the validation set. \n",
    "\n",
    "-----\n",
    "\n",
    "### Evaluating `bestmodel` Performance on the Test Dataset\n",
    "\n",
    "Similar as above, we will first acquire the model's predictions and saving to variable `test_predictions`. "
   ]
  },
  {
   "cell_type": "code",
   "execution_count": 25,
   "metadata": {
    "collapsed": true
   },
   "outputs": [
    {
     "data": {
      "text/plain": [
       "array([1, 0, 0, 0, 0, 0, 0, 0, 0, 0, 0, 0, 0, 0, 0, 0, 0, 0, 0, 0, 0, 0,\n",
       "       0, 0, 0, 0, 0, 0, 0, 0, 0, 0, 0, 0, 0, 0, 0, 0, 0, 0, 0, 0, 0, 0,\n",
       "       0, 0, 0, 0, 0, 0, 0, 0, 0, 0, 0, 0, 0, 0, 0, 0, 0, 0, 0, 0, 0, 0,\n",
       "       0, 0, 0, 0, 0, 0, 0, 1, 0, 0, 0, 0, 0, 0, 0, 0, 0, 0, 0, 0, 0, 0,\n",
       "       0, 0, 0, 0, 0, 0, 0, 0, 0, 0, 0, 0, 0, 0, 0, 0, 0, 0, 0, 0, 0, 0,\n",
       "       0, 0, 0, 0, 0, 0, 0, 0, 0, 0, 0, 0, 0, 0, 0, 0, 0, 0, 0, 0, 0, 0,\n",
       "       0, 0, 0, 0, 0, 0, 0, 0, 0, 0, 0, 2, 0, 0, 0, 0, 0, 0, 0, 0, 0, 0,\n",
       "       0, 0, 0, 0, 0, 0, 0, 0, 0, 0, 0, 0, 0, 0, 0, 0, 0, 0, 0, 0, 0, 0,\n",
       "       0, 0, 0, 0, 0, 0, 0, 0, 0, 0, 0, 0, 0, 0, 0, 0, 0, 0, 0, 0, 0, 0,\n",
       "       0, 0, 1, 0, 0, 0, 0, 0, 0, 0, 1, 0, 0, 1, 0, 0, 0, 0, 0, 0, 0, 0,\n",
       "       0, 1, 1, 0, 0, 0, 0, 0, 0, 0, 0, 0, 0, 0, 0, 0, 0, 0, 0, 0, 0, 0,\n",
       "       0, 1, 0, 0, 1, 0, 0, 0, 0, 0, 0, 0, 0, 0, 0, 0, 0, 0, 0, 0, 0, 0,\n",
       "       0, 0, 1, 1, 1, 1, 1, 1, 1, 1, 1, 1, 1, 1, 1, 1, 1, 1, 1, 1, 1, 1,\n",
       "       1, 1, 1, 1, 1, 1, 1, 1, 1, 1, 1, 1, 1, 1, 1, 1, 1, 1, 1, 1, 1, 1,\n",
       "       1, 1, 1, 1, 1, 1, 1, 1, 1, 1, 1, 1, 1, 1, 1, 1, 1, 1, 1, 1, 1, 1,\n",
       "       1, 1, 1, 1, 1, 1, 1, 1, 1, 1, 1, 1, 1, 1, 1, 1, 1, 1, 1, 1, 1, 1,\n",
       "       1, 1, 1, 1, 1, 1, 1, 1, 1, 1, 1, 1, 1, 1, 1, 1, 1, 1, 1, 1, 1, 1,\n",
       "       1, 1, 1, 1, 1, 1, 1, 1, 1, 1, 1, 1, 1, 1, 1, 1, 1, 1, 1, 1, 1, 1,\n",
       "       1, 1, 1, 1, 1, 1, 1, 1, 1, 1, 1, 1, 1, 1, 1, 1, 1, 1, 1, 1, 1, 1,\n",
       "       1, 1, 1, 1, 1, 1, 1, 1, 1, 1, 1, 1, 1, 1, 1, 1, 1, 1, 1, 1, 1, 1,\n",
       "       1, 1, 1, 1, 1, 1, 1, 1, 1, 1, 1, 1, 1, 1, 1, 1, 1, 1, 1, 1, 1, 1,\n",
       "       1, 1, 1, 1, 1, 1, 1, 1, 1, 1, 1, 1, 1, 1, 1, 1, 1, 1, 1, 1, 1, 1,\n",
       "       1, 1, 1, 1, 1, 1, 1, 1, 1, 1, 1, 1, 1, 1, 1, 1, 1, 1, 1, 1, 1, 1,\n",
       "       1, 1, 1, 1, 1, 1, 1, 1, 1, 1, 1, 1, 1, 1, 1, 1, 1, 1, 1, 1, 1, 1,\n",
       "       1, 1, 1, 1, 1, 1, 1, 2, 2, 2, 2, 2, 2, 2, 2, 2, 2, 2, 2, 2, 2, 2,\n",
       "       2, 2, 2, 2, 2, 2, 2, 2, 2, 2, 2, 2, 2, 2, 2, 2, 2, 2, 2, 2, 2, 2,\n",
       "       2, 2, 2, 2, 2, 2, 2, 2, 2, 2, 2, 2, 2, 2, 2, 2, 2, 2, 2, 2, 2, 2,\n",
       "       2, 2, 2, 2, 2, 2, 2, 2, 2, 2, 0, 2, 2, 2, 2, 2, 2, 2, 2, 2, 2, 2,\n",
       "       2, 2, 2, 2, 2, 2, 2, 2, 2, 2, 2, 2, 2, 2, 2, 2, 2, 2, 2, 2, 2, 2,\n",
       "       2, 2, 2, 2, 2, 2, 2, 2, 2, 2, 2, 2, 2, 2, 2, 2, 2, 2, 2, 2, 2, 2,\n",
       "       2, 2, 2, 2, 2, 2, 2, 2, 2, 2, 2, 2, 2, 2, 2, 2, 2, 2, 2, 2, 2, 2,\n",
       "       2, 2, 2, 2, 2, 2, 2, 2, 2, 2, 2, 2, 2, 2, 2, 2, 2, 2, 2, 2, 2, 2,\n",
       "       2, 2, 2, 2, 2, 2, 2, 2, 2, 2, 2, 2, 2, 2, 2, 2, 2, 2, 2, 2, 2, 2,\n",
       "       2, 2, 2, 2, 2, 1, 2, 2, 2, 2, 2, 2, 2, 2, 2, 2, 2, 2, 2, 2, 2, 2,\n",
       "       2, 2, 2, 2, 2, 2, 2, 2, 2, 2, 2, 2, 2, 2, 2, 2, 2, 2, 2, 2, 2, 2,\n",
       "       2, 2, 2, 2, 2, 2, 2, 2, 2, 2, 1, 2, 2, 2, 2, 2, 2, 2, 2, 2, 2, 2,\n",
       "       2, 2, 2, 2, 2, 2, 2, 2, 2, 2, 2, 2, 2, 2, 2, 2, 2], dtype=int64)"
      ]
     },
     "execution_count": 25,
     "metadata": {},
     "output_type": "execute_result"
    }
   ],
   "source": [
    "# Getting bestmodel's predictions (as probabilities) on the test set \n",
    "test_probas = bestmodel.predict_generator(test_generator, steps=test_stepsize)\n",
    "\n",
    "# Setting the model's class prediction as the class that received the highest probability for each image\n",
    "test_predictions = test_probas.argmax(axis=1)\n",
    "\n",
    "# Sanity check \n",
    "test_predictions"
   ]
  },
  {
   "cell_type": "markdown",
   "metadata": {},
   "source": [
    "Next, saving the true classes of the test images to the variable `test_true`. "
   ]
  },
  {
   "cell_type": "code",
   "execution_count": 26,
   "metadata": {
    "collapsed": true
   },
   "outputs": [
    {
     "data": {
      "text/plain": [
       "array([0, 0, 0, 0, 0, 0, 0, 0, 0, 0, 0, 0, 0, 0, 0, 0, 0, 0, 0, 0, 0, 0,\n",
       "       0, 0, 0, 0, 0, 0, 0, 0, 0, 0, 0, 0, 0, 0, 0, 0, 0, 0, 0, 0, 0, 0,\n",
       "       0, 0, 0, 0, 0, 0, 0, 0, 0, 0, 0, 0, 0, 0, 0, 0, 0, 0, 0, 0, 0, 0,\n",
       "       0, 0, 0, 0, 0, 0, 0, 0, 0, 0, 0, 0, 0, 0, 0, 0, 0, 0, 0, 0, 0, 0,\n",
       "       0, 0, 0, 0, 0, 0, 0, 0, 0, 0, 0, 0, 0, 0, 0, 0, 0, 0, 0, 0, 0, 0,\n",
       "       0, 0, 0, 0, 0, 0, 0, 0, 0, 0, 0, 0, 0, 0, 0, 0, 0, 0, 0, 0, 0, 0,\n",
       "       0, 0, 0, 0, 0, 0, 0, 0, 0, 0, 0, 0, 0, 0, 0, 0, 0, 0, 0, 0, 0, 0,\n",
       "       0, 0, 0, 0, 0, 0, 0, 0, 0, 0, 0, 0, 0, 0, 0, 0, 0, 0, 0, 0, 0, 0,\n",
       "       0, 0, 0, 0, 0, 0, 0, 0, 0, 0, 0, 0, 0, 0, 0, 0, 0, 0, 0, 0, 0, 0,\n",
       "       0, 0, 0, 0, 0, 0, 0, 0, 0, 0, 0, 0, 0, 0, 0, 0, 0, 0, 0, 0, 0, 0,\n",
       "       0, 0, 0, 0, 0, 0, 0, 0, 0, 0, 0, 0, 0, 0, 0, 0, 0, 0, 0, 0, 0, 0,\n",
       "       0, 0, 0, 0, 0, 0, 0, 0, 0, 0, 0, 0, 0, 0, 0, 0, 0, 0, 0, 0, 0, 0,\n",
       "       0, 0, 1, 1, 1, 1, 1, 1, 1, 1, 1, 1, 1, 1, 1, 1, 1, 1, 1, 1, 1, 1,\n",
       "       1, 1, 1, 1, 1, 1, 1, 1, 1, 1, 1, 1, 1, 1, 1, 1, 1, 1, 1, 1, 1, 1,\n",
       "       1, 1, 1, 1, 1, 1, 1, 1, 1, 1, 1, 1, 1, 1, 1, 1, 1, 1, 1, 1, 1, 1,\n",
       "       1, 1, 1, 1, 1, 1, 1, 1, 1, 1, 1, 1, 1, 1, 1, 1, 1, 1, 1, 1, 1, 1,\n",
       "       1, 1, 1, 1, 1, 1, 1, 1, 1, 1, 1, 1, 1, 1, 1, 1, 1, 1, 1, 1, 1, 1,\n",
       "       1, 1, 1, 1, 1, 1, 1, 1, 1, 1, 1, 1, 1, 1, 1, 1, 1, 1, 1, 1, 1, 1,\n",
       "       1, 1, 1, 1, 1, 1, 1, 1, 1, 1, 1, 1, 1, 1, 1, 1, 1, 1, 1, 1, 1, 1,\n",
       "       1, 1, 1, 1, 1, 1, 1, 1, 1, 1, 1, 1, 1, 1, 1, 1, 1, 1, 1, 1, 1, 1,\n",
       "       1, 1, 1, 1, 1, 1, 1, 1, 1, 1, 1, 1, 1, 1, 1, 1, 1, 1, 1, 1, 1, 1,\n",
       "       1, 1, 1, 1, 1, 1, 1, 1, 1, 1, 1, 1, 1, 1, 1, 1, 1, 1, 1, 1, 1, 1,\n",
       "       1, 1, 1, 1, 1, 1, 1, 1, 1, 1, 1, 1, 1, 1, 1, 1, 1, 1, 1, 1, 1, 1,\n",
       "       1, 1, 1, 1, 1, 1, 1, 1, 1, 1, 1, 1, 1, 1, 1, 1, 1, 1, 1, 1, 1, 1,\n",
       "       1, 1, 1, 1, 1, 1, 1, 2, 2, 2, 2, 2, 2, 2, 2, 2, 2, 2, 2, 2, 2, 2,\n",
       "       2, 2, 2, 2, 2, 2, 2, 2, 2, 2, 2, 2, 2, 2, 2, 2, 2, 2, 2, 2, 2, 2,\n",
       "       2, 2, 2, 2, 2, 2, 2, 2, 2, 2, 2, 2, 2, 2, 2, 2, 2, 2, 2, 2, 2, 2,\n",
       "       2, 2, 2, 2, 2, 2, 2, 2, 2, 2, 2, 2, 2, 2, 2, 2, 2, 2, 2, 2, 2, 2,\n",
       "       2, 2, 2, 2, 2, 2, 2, 2, 2, 2, 2, 2, 2, 2, 2, 2, 2, 2, 2, 2, 2, 2,\n",
       "       2, 2, 2, 2, 2, 2, 2, 2, 2, 2, 2, 2, 2, 2, 2, 2, 2, 2, 2, 2, 2, 2,\n",
       "       2, 2, 2, 2, 2, 2, 2, 2, 2, 2, 2, 2, 2, 2, 2, 2, 2, 2, 2, 2, 2, 2,\n",
       "       2, 2, 2, 2, 2, 2, 2, 2, 2, 2, 2, 2, 2, 2, 2, 2, 2, 2, 2, 2, 2, 2,\n",
       "       2, 2, 2, 2, 2, 2, 2, 2, 2, 2, 2, 2, 2, 2, 2, 2, 2, 2, 2, 2, 2, 2,\n",
       "       2, 2, 2, 2, 2, 2, 2, 2, 2, 2, 2, 2, 2, 2, 2, 2, 2, 2, 2, 2, 2, 2,\n",
       "       2, 2, 2, 2, 2, 2, 2, 2, 2, 2, 2, 2, 2, 2, 2, 2, 2, 2, 2, 2, 2, 2,\n",
       "       2, 2, 2, 2, 2, 2, 2, 2, 2, 2, 2, 2, 2, 2, 2, 2, 2, 2, 2, 2, 2, 2,\n",
       "       2, 2, 2, 2, 2, 2, 2, 2, 2, 2, 2, 2, 2, 2, 2, 2, 2])"
      ]
     },
     "execution_count": 26,
     "metadata": {},
     "output_type": "execute_result"
    }
   ],
   "source": [
    "# Getting the true class labels for the test set\n",
    "test_true = test_generator.classes\n",
    "\n",
    "# Sanity check \n",
    "test_true"
   ]
  },
  {
   "cell_type": "markdown",
   "metadata": {},
   "source": [
    "Finally, we will compare `test_predictions` with `test_true` to acquire model accuracy, precision, recall, f1-scores and confusion matrices to evalute model performance on the test set. "
   ]
  },
  {
   "cell_type": "code",
   "execution_count": 27,
   "metadata": {
    "scrolled": true
   },
   "outputs": [
    {
     "name": "stdout",
     "output_type": "stream",
     "text": [
      "              Test\n",
      "loss      0.000066\n",
      "accuracy  0.992583\n"
     ]
    }
   ],
   "source": [
    "# Evaluating the best model's performance on the test data \n",
    "test_eval = bestmodel.evaluate_generator(test_generator, steps=test_stepsize)\n",
    "\n",
    "# Saving the results to a dataframe \n",
    "df_test_eval = pd.DataFrame(list(test_eval), index=eval_metrics, columns=['Test'])\n",
    "\n",
    "# Display the results\n",
    "print(df_test_eval)"
   ]
  },
  {
   "cell_type": "markdown",
   "metadata": {},
   "source": [
    "`bestmodel` achieved 99.3% accuracy and < 0.0001 categorical crossentropy loss on the test set."
   ]
  },
  {
   "cell_type": "code",
   "execution_count": 20,
   "metadata": {
    "scrolled": true
   },
   "outputs": [
    {
     "name": "stdout",
     "output_type": "stream",
     "text": [
      "Test Classification Report\n",
      " \n",
      "               precision    recall  f1-score   support\n",
      "\n",
      "       paper       1.00      0.96      0.98       195\n",
      "        rock       0.99      1.00      0.99       196\n",
      "    scissors       0.98      1.00      0.99       199\n",
      "\n",
      "    accuracy                           0.99       590\n",
      "   macro avg       0.99      0.99      0.99       590\n",
      "weighted avg       0.99      0.99      0.99       590\n",
      "\n"
     ]
    }
   ],
   "source": [
    "# Displaying the classification report for the test set\n",
    "print('Test Classification Report\\n \\n', classification_report(test_true, test_predictions, target_names=categories))"
   ]
  },
  {
   "cell_type": "markdown",
   "metadata": {},
   "source": [
    "`bestmodel` also achieved great precision, recall and f1-scores, which ranged from 96 - 100 %. "
   ]
  },
  {
   "cell_type": "code",
   "execution_count": 21,
   "metadata": {
    "scrolled": false
   },
   "outputs": [
    {
     "data": {
      "image/png": "[encoded data removed]",
      "text/plain": [
       "<Figure size 1080x1080 with 2 Axes>"
      ]
     },
     "metadata": {},
     "output_type": "display_data"
    }
   ],
   "source": [
    "# Non-normalized confusion matrix for the test data\n",
    "test_matrix = pd.DataFrame(confusion_matrix(test_true, test_predictions), columns=predicted_labels, index=true_labels)\n",
    "\n",
    "# Plotting a normalized confusion matrix for the test data as a heatmap \n",
    "sns.set(font_scale=1.2)\n",
    "plt.figure(figsize=(15,15))\n",
    "sns.heatmap(round(test_matrix/test_matrix.sum(axis=1)[:,np.newaxis],2), cmap='Blues', annot=True, linewidths=.5, linecolor='black')\n",
    "plt.title('Normalized Confusion Matrix: Test Data', fontsize=20)\n",
    "plt.show()"
   ]
  },
  {
   "cell_type": "markdown",
   "metadata": {},
   "source": [
    "Based on the non-normalized and normalized confusion matrices, `bestmodel` proved successful at predicting the classes of images it had never seen before (i.e., test set images). \n",
    "\n",
    "However, the test images were very similar to the images that the VGG16 CNN was trained on, which may account for the high accuracy, precision, recall and f1 scores seen across the validation and test sets. \n",
    "\n",
    "-----\n",
    "\n",
    "Keeping in mind that the final goal is to classify rock, paper or scissors from images taken in real-time, the model trained in this notebook will undergo additional evaluation of: \n",
    "\n",
    "**Predicting on images taken from live webcam in the subsequent notebook** `real-time_test.ipynb`. "
   ]
  }
 ],
 "metadata": {
  "kernelspec": {
   "display_name": "Python 3",
   "language": "python",
   "name": "python3"
  },
  "language_info": {
   "codemirror_mode": {
    "name": "ipython",
    "version": 3
   },
   "file_extension": ".py",
   "mimetype": "text/x-python",
   "name": "python",
   "nbconvert_exporter": "python",
   "pygments_lexer": "ipython3",
   "version": "3.7.6"
  }
 },
 "nbformat": 4,
 "nbformat_minor": 4
}
